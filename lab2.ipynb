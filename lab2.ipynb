{
 "cells": [
  {
   "cell_type": "code",
   "execution_count": 1,
   "metadata": {},
   "outputs": [],
   "source": [
    "f = open('Khiba_revut_voly.txt',encoding='utf-8')"
   ]
  },
  {
   "cell_type": "code",
   "execution_count": 2,
   "metadata": {},
   "outputs": [],
   "source": [
    "for i in f:\n",
    "    text = i"
   ]
  },
  {
   "cell_type": "code",
   "execution_count": 3,
   "metadata": {},
   "outputs": [],
   "source": [
    "alph = 'абвгдеєжзиіїйклмнопрстуфхцчшщьюя'\n",
    "a = set(alph)"
   ]
  },
  {
   "cell_type": "code",
   "execution_count": 14,
   "metadata": {},
   "outputs": [],
   "source": [
    "g = [0]*len(alph)\n",
    "for i in text:\n",
    "    g[alph.index(i)]+=1"
   ]
  },
  {
   "cell_type": "code",
   "execution_count": 370,
   "metadata": {},
   "outputs": [],
   "source": [
    "g1 = [x/len(text) for x in g]"
   ]
  },
  {
   "cell_type": "code",
   "execution_count": 371,
   "metadata": {},
   "outputs": [
    {
     "name": "stdout",
     "output_type": "stream",
     "text": [
      "[0.0936110158158224, 0.020074323477632085, 0.05130333140916738, 0.019462151107970362, 0.03516498867070262, 0.04596428446705054, 0.00453993603004164, 0.010725342087261268, 0.022635997789605806, 0.0674478369567227, 0.04432908578835681, 0.00487272772093157, 0.014823610132479853, 0.040002793806787715, 0.040623183255236846, 0.028340704737762203, 0.0511163928667539, 0.10008401963060122, 0.030103268137660722, 0.04071151685220146, 0.04197283844606823, 0.05234073760607735, 0.03845387445536175, 0.00018077573332292502, 0.013469846402254767, 0.006076529763286503, 0.016836794435394244, 0.00916820565704789, 0.006306607969333862, 0.01663958454449651, 0.008288978226795482, 0.02432871601981138]\n"
     ]
    }
   ],
   "source": [
    "print(g1)"
   ]
  },
  {
   "cell_type": "code",
   "execution_count": 54,
   "metadata": {},
   "outputs": [
    {
     "name": "stdout",
     "output_type": "stream",
     "text": [
      "Часототи:\n",
      "\n",
      "а --> 0.0936110158158224\n",
      "б --> 0.020074323477632085\n",
      "в --> 0.05130333140916738\n",
      "г --> 0.019462151107970362\n",
      "д --> 0.03516498867070262\n",
      "е --> 0.04596428446705054\n",
      "є --> 0.00453993603004164\n",
      "ж --> 0.010725342087261268\n",
      "з --> 0.022635997789605806\n",
      "и --> 0.0674478369567227\n",
      "і --> 0.04432908578835681\n",
      "ї --> 0.00487272772093157\n",
      "й --> 0.014823610132479853\n",
      "к --> 0.040002793806787715\n",
      "л --> 0.040623183255236846\n",
      "м --> 0.028340704737762203\n",
      "н --> 0.0511163928667539\n",
      "о --> 0.10008401963060122\n",
      "п --> 0.030103268137660722\n",
      "р --> 0.04071151685220146\n",
      "с --> 0.04197283844606823\n",
      "т --> 0.05234073760607735\n",
      "у --> 0.03845387445536175\n",
      "ф --> 0.00018077573332292502\n",
      "х --> 0.013469846402254767\n",
      "ц --> 0.006076529763286503\n",
      "ч --> 0.016836794435394244\n",
      "ш --> 0.00916820565704789\n",
      "щ --> 0.006306607969333862\n",
      "ь --> 0.01663958454449651\n",
      "ю --> 0.008288978226795482\n",
      "я --> 0.02432871601981138\n"
     ]
    }
   ],
   "source": [
    "z = [[x for x in alph],[x for x in g1]]\n",
    "print(\"Часототи:\\n\")\n",
    "for i in range(len(alph)):\n",
    "    print(z[0][i],\"-->\",z[1][i])"
   ]
  },
  {
   "cell_type": "code",
   "execution_count": 21,
   "metadata": {},
   "outputs": [
    {
     "name": "stdout",
     "output_type": "stream",
     "text": [
      "Індекс відповідності = 0.04972202902425022\n"
     ]
    }
   ],
   "source": [
    "I = sum([x**2 for x in g1])\n",
    "print(\"Індекс відповідності =\",I)"
   ]
  },
  {
   "cell_type": "code",
   "execution_count": 12,
   "metadata": {},
   "outputs": [],
   "source": [
    "bi=[[0 for x in range(len(alph))] for y in range(len(alph))]\n",
    "for i in range(len(text)-1):\n",
    "    bi[alph.index(text[i])][alph.index(text[i+1])]+=1"
   ]
  },
  {
   "cell_type": "code",
   "execution_count": 493,
   "metadata": {
    "scrolled": false
   },
   "outputs": [],
   "source": [
    "bi1 = [[x/(len(text)-1) for x in i] for i in bi]\n",
    "#print(\"Біграми:\\n\\n\", bi1)"
   ]
  },
  {
   "cell_type": "code",
   "execution_count": 53,
   "metadata": {},
   "outputs": [
    {
     "name": "stdout",
     "output_type": "stream",
     "text": [
      "Ентропія = 4.586612685431123\n"
     ]
    }
   ],
   "source": [
    "from math import log2\n",
    "H = 0\n",
    "for i in g1:\n",
    "    H-=i*log2(i)\n",
    "print(\"Ентропія =\",H)"
   ]
  },
  {
   "cell_type": "code",
   "execution_count": 55,
   "metadata": {},
   "outputs": [],
   "source": [
    "import random"
   ]
  },
  {
   "cell_type": "code",
   "execution_count": 434,
   "metadata": {},
   "outputs": [],
   "source": [
    "qqq = [text[248+x] for x in range(50)]"
   ]
  },
  {
   "cell_type": "code",
   "execution_count": 174,
   "metadata": {},
   "outputs": [],
   "source": [
    "def Vig(x,r):\n",
    "    y1 = [\"\"]*len(x)\n",
    "    y = [0]*len(x)\n",
    "    key = [random.randint(0,len(alph))-1 for i in range(r)]\n",
    "    for i in range(len(x)):\n",
    "        y1[i] = alph[(alph.index(x[i]) + key[i%r])%len(alph)]\n",
    "    return y1"
   ]
  },
  {
   "cell_type": "code",
   "execution_count": 290,
   "metadata": {},
   "outputs": [
    {
     "data": {
      "text/plain": [
       "['х', 'ю', 'ї', 'й', 'п', 'ж', 'т', 'к', 'ж', 'ч']"
      ]
     },
     "execution_count": 290,
     "metadata": {},
     "output_type": "execute_result"
    }
   ],
   "source": [
    "Vig(qqq,5)"
   ]
  },
  {
   "cell_type": "code",
   "execution_count": 176,
   "metadata": {},
   "outputs": [],
   "source": [
    "def Aff(x,l):\n",
    "    y1 = [\"\"]*len(x)\n",
    "    y = [0]*len(x)\n",
    "    a = [random.randint(0,len(alph)-1) for i in range(l)]\n",
    "    b = [random.randint(0,len(alph)-1) for i in range(l)]\n",
    "    for i in range(len(x)):\n",
    "        y1[i] = alph[(a[i%l]*(alph.index(x[i])) + b[i%l])%len(alph)]\n",
    "    return y1"
   ]
  },
  {
   "cell_type": "code",
   "execution_count": 291,
   "metadata": {},
   "outputs": [
    {
     "data": {
      "text/plain": [
       "['і', 'р', 'и', 'ц', 'б', 'р', 'с', 'я', 'в', 'т']"
      ]
     },
     "execution_count": 291,
     "metadata": {},
     "output_type": "execute_result"
    }
   ],
   "source": [
    "Aff(qqq,2)"
   ]
  },
  {
   "cell_type": "code",
   "execution_count": 178,
   "metadata": {},
   "outputs": [],
   "source": [
    "def Uni(x):\n",
    "    y1 = [\"\"]*len(x)\n",
    "    for i in range(len(x)):\n",
    "        y1[i] = alph[random.randint(0,len(alph)-1)]\n",
    "    return y1"
   ]
  },
  {
   "cell_type": "code",
   "execution_count": 292,
   "metadata": {},
   "outputs": [
    {
     "data": {
      "text/plain": [
       "['г', 'а', 'і', 'в', 'є', 'г', 'з', 'л', 'т', 'р']"
      ]
     },
     "execution_count": 292,
     "metadata": {},
     "output_type": "execute_result"
    }
   ],
   "source": [
    "Uni(qqq)"
   ]
  },
  {
   "cell_type": "code",
   "execution_count": 364,
   "metadata": {},
   "outputs": [],
   "source": [
    "def Fib(x,l):\n",
    "    y1 = [\"\"]*len(x)\n",
    "    s = [[0]*int(len(x)/l) for i in range(l)]\n",
    "    for i in range(l):\n",
    "        for j in range(2):\n",
    "            s[i][j] = random.randint(0,len(alph)-1)\n",
    "    for j in range(l):\n",
    "        for i in range(2,int(len(x)/l)):\n",
    "            s[j][i] = (s[j][i-1]+s[j][i-2])%len(alph)\n",
    "    for j in range(l):\n",
    "        for i in range(int(len(x)/l)):\n",
    "            y1[i*l+j] = alph[s[j][i]]\n",
    "    return y1"
   ]
  },
  {
   "cell_type": "code",
   "execution_count": 365,
   "metadata": {},
   "outputs": [
    {
     "data": {
      "text/plain": [
       "['к', 'х', 'л', 'х', 'ш', 'н', 'и', 'з', 'д', 'х']"
      ]
     },
     "execution_count": 365,
     "metadata": {},
     "output_type": "execute_result"
    }
   ],
   "source": [
    "Fib(qqq,2)"
   ]
  },
  {
   "cell_type": "code",
   "execution_count": 399,
   "metadata": {},
   "outputs": [],
   "source": [
    "def insertion_sort(mas,al):\n",
    "    nums = [i for i in mas]\n",
    "    al1 = [i for i in al]\n",
    "    for i in range(1, len(nums)):\n",
    "        item_to_insert = nums[i]\n",
    "        letter_to_insert = al1[i]\n",
    "        j = i - 1\n",
    "        while j >= 0 and nums[j] > item_to_insert:\n",
    "            nums[j + 1] = nums[j]\n",
    "            al1[j + 1] = al1[j]\n",
    "            j -= 1\n",
    "        nums[j + 1] = item_to_insert\n",
    "        al1[j + 1] = letter_to_insert\n",
    "    return [nums,al1]"
   ]
  },
  {
   "cell_type": "code",
   "execution_count": 491,
   "metadata": {},
   "outputs": [],
   "source": [
    "sorted_g = insertion_sort(g1,alph)\n",
    "sorted_bi = insertion_sort((np.array(bi1)).reshape(-1,1),[[j,i] for j in alph for i in alph])"
   ]
  },
  {
   "cell_type": "code",
   "execution_count": 541,
   "metadata": {},
   "outputs": [],
   "source": [
    "qqq = [text[1000+x] for x in range(100)]"
   ]
  },
  {
   "cell_type": "markdown",
   "metadata": {},
   "source": [
    "# Критерій 2.0"
   ]
  },
  {
   "cell_type": "code",
   "execution_count": 513,
   "metadata": {},
   "outputs": [],
   "source": [
    "def cr_2_0(x,h,l):\n",
    "    if l == 1:\n",
    "        for i in range(1,h+1):\n",
    "            for j in x:\n",
    "                if j == sorted_g[1][-i]:\n",
    "                    break                \n",
    "            else:\n",
    "                return 1\n",
    "    if l == 2:\n",
    "        for i in range(1,h+1):\n",
    "            for j in range(int(len(x)/2)):\n",
    "                if x[2*j] == sorted_bi[1][1024 - i][0] and x[2*j + 1] == sorted_bi[1][1024 - i][1]:\n",
    "                    break                \n",
    "            else:\n",
    "                return 1\n",
    "    return 0"
   ]
  },
  {
   "cell_type": "code",
   "execution_count": 514,
   "metadata": {},
   "outputs": [
    {
     "data": {
      "text/plain": [
       "0"
      ]
     },
     "execution_count": 514,
     "metadata": {},
     "output_type": "execute_result"
    }
   ],
   "source": [
    "cr_2_0(qqq,2,2)"
   ]
  },
  {
   "cell_type": "markdown",
   "metadata": {},
   "source": [
    "# Критерій 2.1"
   ]
  },
  {
   "cell_type": "code",
   "execution_count": 537,
   "metadata": {},
   "outputs": [],
   "source": [
    "def cr_2_1(x,h,l,k):\n",
    "    ind = 0\n",
    "    if l == 1:\n",
    "        for i in range(1,h+1):\n",
    "            for j in x:\n",
    "                if j == sorted_g[1][-i]:\n",
    "                    ind+=1\n",
    "                    break                \n",
    "        print(ind)\n",
    "        return 0 if (h - ind) <= k else 1\n",
    "    if l == 2:\n",
    "        for i in range(1,h+1):\n",
    "            for j in range(int(len(x)/2)):\n",
    "                if x[2*j] == sorted_bi[1][1024 - i][0] and x[2*j + 1] == sorted_bi[1][1024 - i][1]:\n",
    "                    ind+=1\n",
    "                    break                \n",
    "        print(ind)\n",
    "        return 0 if (h - ind) <= k else 1"
   ]
  },
  {
   "cell_type": "code",
   "execution_count": 543,
   "metadata": {},
   "outputs": [
    {
     "name": "stdout",
     "output_type": "stream",
     "text": [
      "26\n"
     ]
    },
    {
     "data": {
      "text/plain": [
       "0"
      ]
     },
     "execution_count": 543,
     "metadata": {},
     "output_type": "execute_result"
    }
   ],
   "source": [
    "cr_2_1(qqq,30,1,4)"
   ]
  },
  {
   "cell_type": "markdown",
   "metadata": {},
   "source": [
    "# Критерій 2.2"
   ]
  },
  {
   "cell_type": "code",
   "execution_count": 602,
   "metadata": {},
   "outputs": [],
   "source": [
    "def cr_2_2(x,h,l):\n",
    "    kk = np.array(sorted_g[0])\n",
    "    kk = kk[len(kk)-1:len(kk)-1-h:-1]\n",
    "    al = [0]*h\n",
    "    if l == 1:\n",
    "        for i in range(1,h+1):\n",
    "            for j in x:\n",
    "                if j == sorted_g[1][-i]:\n",
    "                    al[i - 1]+=1\n",
    "        al = [i/len(x) for i in al]\n",
    "        for i in range(len(al)):\n",
    "            if al[i] < kk[i]:\n",
    "                return 1\n",
    "        return 0"
   ]
  },
  {
   "cell_type": "code",
   "execution_count": 604,
   "metadata": {},
   "outputs": [
    {
     "data": {
      "text/plain": [
       "1"
      ]
     },
     "execution_count": 604,
     "metadata": {},
     "output_type": "execute_result"
    }
   ],
   "source": [
    "cr_2_2(qqq,5,1)"
   ]
  },
  {
   "cell_type": "code",
   "execution_count": null,
   "metadata": {},
   "outputs": [],
   "source": []
  }
 ],
 "metadata": {
  "kernelspec": {
   "display_name": "Python 3",
   "language": "python",
   "name": "python3"
  },
  "language_info": {
   "codemirror_mode": {
    "name": "ipython",
    "version": 3
   },
   "file_extension": ".py",
   "mimetype": "text/x-python",
   "name": "python",
   "nbconvert_exporter": "python",
   "pygments_lexer": "ipython3",
   "version": "3.8.3"
  }
 },
 "nbformat": 4,
 "nbformat_minor": 4
}
